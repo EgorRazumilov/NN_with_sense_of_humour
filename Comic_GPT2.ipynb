{
 "cells": [
  {
   "cell_type": "code",
   "execution_count": 2,
   "metadata": {
    "executionInfo": {
     "elapsed": 5355,
     "status": "ok",
     "timestamp": 1601210260660,
     "user": {
      "displayName": "Егор Разумилов",
      "photoUrl": "",
      "userId": "18124961333698790489"
     },
     "user_tz": -180
    },
    "id": "JiPSJElrjDLz"
   },
   "outputs": [],
   "source": [
    "import torch\n",
    "from torch.utils.data import Dataset, DataLoader\n",
    "import numpy as np\n",
    "import pandas as pd\n",
    "from transformers import GPT2Tokenizer, GPT2LMHeadModel\n",
    "import random\n",
    "import matplotlib.pyplot as plt\n",
    "from keras.preprocessing.sequence import pad_sequences"
   ]
  },
  {
   "cell_type": "code",
   "execution_count": 3,
   "metadata": {
    "executionInfo": {
     "elapsed": 5436,
     "status": "ok",
     "timestamp": 1601210260881,
     "user": {
      "displayName": "Егор Разумилов",
      "photoUrl": "",
      "userId": "18124961333698790489"
     },
     "user_tz": -180
    },
    "id": "q6P3AAaEpgq6"
   },
   "outputs": [],
   "source": [
    "jokes_csv = pd.read_csv('./shortjokes.csv') # dataset https://www.kaggle.com/abhinavmoudgil95/short-jokes"
   ]
  },
  {
   "cell_type": "code",
   "execution_count": 4,
   "metadata": {
    "executionInfo": {
     "elapsed": 5280,
     "status": "ok",
     "timestamp": 1601210260882,
     "user": {
      "displayName": "Егор Разумилов",
      "photoUrl": "",
      "userId": "18124961333698790489"
     },
     "user_tz": -180
    },
    "id": "V4oj7m-cqm1U"
   },
   "outputs": [],
   "source": [
    "jokes= jokes_csv.iloc[:50000] #I cut the number of jokes because it takes the model too long to train"
   ]
  },
  {
   "cell_type": "code",
   "execution_count": 5,
   "metadata": {
    "executionInfo": {
     "elapsed": 5123,
     "status": "ok",
     "timestamp": 1601210260883,
     "user": {
      "displayName": "Егор Разумилов",
      "photoUrl": "",
      "userId": "18124961333698790489"
     },
     "user_tz": -180
    },
    "id": "qRLF-enWpghX"
   },
   "outputs": [],
   "source": [
    "# overload dataset\n",
    "class JokesDataset(Dataset):\n",
    "    def __init__(self, csv, tokenizer, max_len):\n",
    "        super().__init__()\n",
    "        self.csv = csv\n",
    "        self.tokenizer = tokenizer\n",
    "        self.max_len = max_len\n",
    "\n",
    "    def __getitem__(self, index):\n",
    "        # we add 'JOKE' so that the model knows what the joke is, and the final token so that the model knows when to stop\n",
    "        joke_str = 'JOKE:' + self.csv.Joke.values[index] + self.tokenizer.eos_token \n",
    "        joke_tokenized = tokenizer.encode(joke_str)\n",
    "        #ensure lengths\n",
    "        if (len(joke_tokenized) < self.max_len):\n",
    "            attention_mask = [1 for i in range(len(joke_tokenized))] + [0 for i in range((self.max_len - len(joke_tokenized)))]\n",
    "            joke_tokenized += [0] * (self.max_len - len(joke_tokenized))\n",
    "        elif (len(joke_tokenized) > self.max_len):\n",
    "            joke_tokenized = joke_tokenized[:self.max_len - 1] + tokenizer.encode(self.tokenizer.eos_token)\n",
    "            attention_mask = [1 for i in range(self.max_len)]\n",
    "\n",
    "        joke_tokenized = torch.LongTensor(joke_tokenized)\n",
    "        attention_mask = torch.LongTensor(attention_mask)\n",
    "        return joke_tokenized, attention_mask\n",
    "\n",
    "    def __len__(self):\n",
    "        return len(self.csv)"
   ]
  },
  {
   "cell_type": "code",
   "execution_count": 6,
   "metadata": {
    "executionInfo": {
     "elapsed": 5440,
     "status": "ok",
     "timestamp": 1601210261632,
     "user": {
      "displayName": "Егор Разумилов",
      "photoUrl": "",
      "userId": "18124961333698790489"
     },
     "user_tz": -180
    },
    "id": "f8izOSp6FzSq"
   },
   "outputs": [],
   "source": [
    "tokenizer = GPT2Tokenizer.from_pretrained('gpt2-medium')"
   ]
  },
  {
   "cell_type": "code",
   "execution_count": 7,
   "metadata": {
    "executionInfo": {
     "elapsed": 5022,
     "status": "ok",
     "timestamp": 1601210261634,
     "user": {
      "displayName": "Егор Разумилов",
      "photoUrl": "",
      "userId": "18124961333698790489"
     },
     "user_tz": -180
    },
    "id": "8D1c687j5lf0"
   },
   "outputs": [],
   "source": [
    "joke_dataset = JokesDataset(jokes, tokenizer, 100)\n",
    "joke_dataloader = DataLoader(joke_dataset, batch_size=16, shuffle=True)"
   ]
  },
  {
   "cell_type": "code",
   "execution_count": 8,
   "metadata": {
    "executionInfo": {
     "elapsed": 65467,
     "status": "ok",
     "timestamp": 1601210322513,
     "user": {
      "displayName": "Егор Разумилов",
      "photoUrl": "",
      "userId": "18124961333698790489"
     },
     "user_tz": -180
    },
    "id": "M-4XJQ905lbl"
   },
   "outputs": [],
   "source": [
    "N_EPOCHS = 1\n",
    "device = torch.device('cuda')\n",
    "model = GPT2LMHeadModel.from_pretrained('gpt2-medium')\n",
    "model = model.to(device)\n",
    "optimizer = torch.optim.AdamW(model.parameters(), lr=1e-5)"
   ]
  },
  {
   "cell_type": "code",
   "execution_count": 9,
   "metadata": {
    "colab": {
     "base_uri": "https://localhost:8080/",
     "height": 295
    },
    "executionInfo": {
     "elapsed": 4852154,
     "status": "ok",
     "timestamp": 1601215109853,
     "user": {
      "displayName": "Егор Разумилов",
      "photoUrl": "",
      "userId": "18124961333698790489"
     },
     "user_tz": -180
    },
    "id": "Ny6uVqGJ9a7g",
    "outputId": "01db32b4-f857-4635-f677-bba76f32d400"
   },
   "outputs": [
    {
     "data": {
      "image/png": "[encoded data removed]",
      "text/plain": [
       "<Figure size 432x288 with 1 Axes>"
      ]
     },
     "metadata": {
      "needs_background": "light",
      "tags": []
     },
     "output_type": "display_data"
    }
   ],
   "source": [
    "# training\n",
    "model.train()\n",
    "best_loss = float('inf')\n",
    "from IPython.display import clear_output\n",
    "train_loss_history = []\n",
    "for i in range(N_EPOCHS):\n",
    "    for joke, attn in joke_dataloader:\n",
    "        joke = joke.to(device)\n",
    "        attn = attn.to(device)\n",
    "        outputs = model(joke, attention_mask = attn, labels=joke)\n",
    "        loss, logits = outputs[:2]\n",
    "        loss.backward()\n",
    "        optimizer.step()\n",
    "        loss_value = loss.detach().cpu()\n",
    "        train_loss_history.append(loss_value)\n",
    "        clear_output(True)\n",
    "        plt.plot(train_loss_history)\n",
    "        plt.title(\"Training loss\")\n",
    "        plt.xlabel(\"Batch\")\n",
    "        plt.ylabel(\"Loss\")\n",
    "        plt.show()\n",
    "torch.save(model.state_dict(),'./model.pt')"
   ]
  },
  {
   "cell_type": "markdown",
   "metadata": {
    "id": "hyZ4Gtsg6V0o"
   },
   "source": [
    "We can generate the most possible word, but this can lead to bad results (circularity for example), so we can use BeamSearch, this is a truncated version of the BruteForce."
   ]
  },
  {
   "cell_type": "code",
   "execution_count": 10,
   "metadata": {
    "executionInfo": {
     "elapsed": 712,
     "status": "ok",
     "timestamp": 1601215348060,
     "user": {
      "displayName": "Егор Разумилов",
      "photoUrl": "",
      "userId": "18124961333698790489"
     },
     "user_tz": -180
    },
    "id": "DbEEN-mMHj8-"
   },
   "outputs": [],
   "source": [
    "import heapq"
   ]
  },
  {
   "cell_type": "code",
   "execution_count": 11,
   "metadata": {
    "executionInfo": {
     "elapsed": 459,
     "status": "ok",
     "timestamp": 1601215348320,
     "user": {
      "displayName": "Егор Разумилов",
      "photoUrl": "",
      "userId": "18124961333698790489"
     },
     "user_tz": -180
    },
    "id": "q5PXp1N-15FL"
   },
   "outputs": [],
   "source": [
    "class BeamGenerator:\n",
    "    def __init__(self, model, tokenizer, device = 'cuda', eos_token_id = 0):\n",
    "        self.model = model\n",
    "        self.tokenizer = tokenizer\n",
    "        self.device = torch.device(device)\n",
    "        self.model.to(self.device)\n",
    "        self.eos_token_id = eos_token_id\n",
    "        \n",
    "    def __call__(self, seed_text, max_steps_n = 100, return_hypotheses_n = 5, beamsize = 5):\n",
    "        seed_tokens = self.tokenizer.encode(seed_text)\n",
    "        initial_length = len(seed_tokens)\n",
    "        partial_hypotheses = [(0, seed_tokens)]\n",
    "        final_hypotheses = []\n",
    "        \n",
    "        while len(partial_hypotheses) > 0:\n",
    "            cur_partial_score, cur_partial_hypothesis = heapq.heappop(partial_hypotheses)\n",
    "            \n",
    "            in_batch = torch.tensor(cur_partial_hypothesis).to(self.device)\n",
    "            outputs = self.model(in_batch, labels=in_batch)\n",
    "            loss, logits = outputs[:2]\n",
    "            next_tokens_logits = logits[-1]\n",
    "            next_tokens_logproba = torch.nn.functional.log_softmax(next_tokens_logits)\n",
    "            topk_continuations = next_tokens_logproba.topk(beamsize)\n",
    "            \n",
    "            for token_score, token_idx in zip(topk_continuations.values, topk_continuations.indices):\n",
    "                token_score = float(token_score)\n",
    "                token_idx = int(token_idx)\n",
    "                \n",
    "                old_denorm_score = cur_partial_score * np.sqrt(len(cur_partial_hypothesis))\n",
    "                new_score = (old_denorm_score - token_score) / np.sqrt(len(cur_partial_hypothesis) + 1)\n",
    "                \n",
    "                new_hypothesis = cur_partial_hypothesis + [token_idx]\n",
    "                new_item = (new_score, new_hypothesis)\n",
    "                \n",
    "                if token_idx == self.eos_token_id or len(new_hypothesis) - initial_length >= max_steps_n:\n",
    "                    final_hypotheses.append(new_item)\n",
    "                else:\n",
    "                    heapq.heappush(partial_hypotheses, new_item)\n",
    "                    \n",
    "            if len(partial_hypotheses) > beamsize:\n",
    "                partial_hypotheses = heapq.nsmallest(beamsize, partial_hypotheses)\n",
    "                heapq.heapify(partial_hypotheses)\n",
    "\n",
    "        final_hypotheses.sort()\n",
    "        final_hypotheses = final_hypotheses[:return_hypotheses_n]\n",
    "        result = []\n",
    "        for score, hyp in final_hypotheses:\n",
    "            result.append((score, tokenizer.decode(hyp)))\n",
    "        return result"
   ]
  },
  {
   "cell_type": "code",
   "execution_count": 12,
   "metadata": {
    "colab": {
     "base_uri": "https://localhost:8080/",
     "height": 34
    },
    "executionInfo": {
     "elapsed": 88444,
     "status": "ok",
     "timestamp": 1601215444802,
     "user": {
      "displayName": "Егор Разумилов",
      "photoUrl": "",
      "userId": "18124961333698790489"
     },
     "user_tz": -180
    },
    "id": "x9Nmd9BbHmGe",
    "outputId": "806a3197-fa64-408b-8d5d-ac4f073f8ef9"
   },
   "outputs": [
    {
     "data": {
      "text/plain": [
       "<All keys matched successfully>"
      ]
     },
     "execution_count": 12,
     "metadata": {
      "tags": []
     },
     "output_type": "execute_result"
    }
   ],
   "source": [
    "model = GPT2LMHeadModel.from_pretrained('gpt2-medium')\n",
    "model.load_state_dict(torch.load('./model.pt'))"
   ]
  },
  {
   "cell_type": "code",
   "execution_count": 27,
   "metadata": {
    "colab": {
     "base_uri": "https://localhost:8080/",
     "height": 204
    },
    "executionInfo": {
     "elapsed": 14489,
     "status": "ok",
     "timestamp": 1601215908297,
     "user": {
      "displayName": "Егор Разумилов",
      "photoUrl": "",
      "userId": "18124961333698790489"
     },
     "user_tz": -180
    },
    "id": "SF-OqrZBIxvP",
    "outputId": "05d7a854-32d6-4b37-c90b-4621b60368d8"
   },
   "outputs": [
    {
     "name": "stderr",
     "output_type": "stream",
     "text": [
      "/usr/local/lib/python3.6/dist-packages/ipykernel_launcher.py:22: UserWarning: Implicit dimension choice for log_softmax has been deprecated. Change the call to include dim=X as an argument.\n"
     ]
    },
    {
     "data": {
      "text/plain": [
       "[(1.8794059697538614,\n",
       "  'JOKE:One man walks into a bar... The other man ducks.<|endoftext|>'),\n",
       " (2.192127040314611,\n",
       "  'JOKE:One man walks into a bar... And the other man ducks.<|endoftext|>'),\n",
       " (2.3859195935540525,\n",
       "  'JOKE:One man walks into a bar... The other man ducks. The first man ducks.<|endoftext|>'),\n",
       " (2.4208162696333786,\n",
       "  'JOKE:One man walks into a bar... The other man ducks<|endoftext|>'),\n",
       " (2.4782742604709926,\n",
       "  'JOKE:One man walks into a bar... The other man ducks. The first man ducks. The second man ducks.<|endoftext|>')]"
      ]
     },
     "execution_count": 27,
     "metadata": {
      "tags": []
     },
     "output_type": "execute_result"
    }
   ],
   "source": [
    "model.eval()\n",
    "beam_search = BeamGenerator(model, tokenizer, eos_token_id=tokenizer.eos_token_id)\n",
    "beam_search('JOKE:One man')"
   ]
  },
  {
   "cell_type": "markdown",
   "metadata": {
    "id": "cWkHIHcq49vu"
   },
   "source": [
    "Ok, very strange jokes. Let's try another approach. On every prediction choose random word from topk."
   ]
  },
  {
   "cell_type": "code",
   "execution_count": 28,
   "metadata": {
    "executionInfo": {
     "elapsed": 849,
     "status": "ok",
     "timestamp": 1601215944882,
     "user": {
      "displayName": "Егор Разумилов",
      "photoUrl": "",
      "userId": "18124961333698790489"
     },
     "user_tz": -180
    },
    "id": "z1O_mrPjJdx_"
   },
   "outputs": [],
   "source": [
    "def choose_from_top(probs, n=5):\n",
    "    ind = np.argpartition(probs, -n)[-n:] #take top n probs\n",
    "    top_prob = probs[ind]\n",
    "    top_prob = top_prob / np.sum(top_prob) # Normalize\n",
    "    choice = np.random.choice(n, 1, p = top_prob) #pick one of top n words with probs = top_prob\n",
    "    token_id = ind[choice][0] #get token_id\n",
    "    return int(token_id)\n",
    "\n",
    "def generate_some_text(input_str, text_len = 250):\n",
    "    inputs = torch.LongTensor(tokenizer.encode(input_str)).to(device)\n",
    "    model.eval()\n",
    "    with torch.no_grad():\n",
    "        for i in range(text_len):\n",
    "            outputs = model(inputs, labels=inputs)\n",
    "            loss, logits = outputs[:2]\n",
    "            softmax_logits = torch.softmax(logits[-1], dim=0)\n",
    "            next_token_id = choose_from_top(softmax_logits.cpu().numpy(), n=10)\n",
    "            if ([next_token_id] == tokenizer.encode(tokenizer.eos_token)): # if the network generated the end of the sentence, stop \n",
    "                break\n",
    "            inputs = torch.LongTensor(inputs.cpu().tolist() + [next_token_id]).to(device)\n",
    "\n",
    "        output_text = tokenizer.decode(inputs)\n",
    "        print(output_text)"
   ]
  },
  {
   "cell_type": "code",
   "execution_count": 29,
   "metadata": {
    "colab": {
     "base_uri": "https://localhost:8080/",
     "height": 34
    },
    "executionInfo": {
     "elapsed": 1693,
     "status": "ok",
     "timestamp": 1601215946167,
     "user": {
      "displayName": "Егор Разумилов",
      "photoUrl": "",
      "userId": "18124961333698790489"
     },
     "user_tz": -180
    },
    "id": "u9rN9xrt5jaF",
    "outputId": "32a34260-2f61-463c-fea9-0d9b279458bd"
   },
   "outputs": [
    {
     "name": "stdout",
     "output_type": "stream",
     "text": [
      "JOKE:One man was walking down the hill.. and said to the other, \"Hey man, are you the hill, the rope?\" \"No,\" the other replies, \"It's a joke.\"\n"
     ]
    }
   ],
   "source": [
    "generate_some_text('JOKE:One man')"
   ]
  },
  {
   "cell_type": "markdown",
   "metadata": {
    "id": "HQ0-Mnx97B2_"
   },
   "source": [
    "OK, this is more of a joke. I think the problem with ray search is that in fact, in this situation, since there was not very much data, and a lot of jokes start with the phrase \"One man goes to a bar\", the model goes \"on a rolling track\". But if we choose a random word, we give the model some variation"
   ]
  },
  {
   "cell_type": "code",
   "execution_count": null,
   "metadata": {
    "id": "C-5P2Kba7DnU"
   },
   "outputs": [],
   "source": []
  }
 ],
 "metadata": {
  "accelerator": "GPU",
  "colab": {
   "authorship_tag": "ABX9TyNWq77onS8uZk1BTsHNTHTk",
   "collapsed_sections": [],
   "mount_file_id": "1D8YoRGD2Ccp47S0c7Mj89X92uzlm8lwH",
   "name": "Comic_GPT2.ipynb",
   "provenance": []
  },
  "kernelspec": {
   "display_name": "Python 3",
   "language": "python",
   "name": "python3"
  },
  "language_info": {
   "codemirror_mode": {
    "name": "ipython",
    "version": 3
   },
   "file_extension": ".py",
   "mimetype": "text/x-python",
   "name": "python",
   "nbconvert_exporter": "python",
   "pygments_lexer": "ipython3",
   "version": "3.7.6"
  }
 },
 "nbformat": 4,
 "nbformat_minor": 1
}
